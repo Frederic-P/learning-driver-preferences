{
 "cells": [
  {
   "cell_type": "code",
   "execution_count": 1,
   "metadata": {},
   "outputs": [],
   "source": [
    "import json\n",
    "import matplotlib.pyplot as plt\n",
    "import os\n",
    "import pandas as pd\n",
    "import numpy as np\n",
    "from scipy import stats\n",
    "from tqdm import tqdm\n",
    "import math\n",
    "\n",
    "\n",
    "# Update the rcParams to remove top and right spines by default\n",
    "plt.rcParams['axes.spines.top'] = False\n",
    "plt.rcParams['axes.spines.right'] = False\n",
    "plt.rcParams['axes.grid'] = False\n",
    "plt.rcParams['legend.frameon'] = False"
   ]
  },
  {
   "cell_type": "code",
   "execution_count": 2,
   "metadata": {},
   "outputs": [],
   "source": [
    "def haversine_distance(lat1, lon1, lat2, lon2):\n",
    "    R = 6371  # Radius of the Earth in kilometers\n",
    "\n",
    "    # Convert latitude and longitude from degrees to radians\n",
    "    lat1_rad = math.radians(lat1)\n",
    "    lon1_rad = math.radians(lon1)\n",
    "    lat2_rad = math.radians(lat2)\n",
    "    lon2_rad = math.radians(lon2)\n",
    "\n",
    "    # Haversine formula\n",
    "    dlat = lat2_rad - lat1_rad\n",
    "    dlon = lon2_rad - lon1_rad\n",
    "    a = math.sin(dlat / 2) ** 2 + math.cos(lat1_rad) * math.cos(lat2_rad) * math.sin(dlon / 2) ** 2\n",
    "    c = 2 * math.atan2(math.sqrt(a), math.sqrt(1 - a))\n",
    "    distance = R * c\n",
    "\n",
    "    return distance\n",
    "\n",
    "def read_request(route_id, ymd, idx_file):\n",
    "    \"\"\"\n",
    "    Gepaste docstring in het goede formaat.\n",
    "    Als je dit in het goede formaat doet kan je meteen documentatie maken\n",
    "    https://realpython.com/python-project-documentation-with-mkdocs/\n",
    "    \"\"\"\n",
    "    \n",
    "    folder_requests = os.path.join('..', 'data', 'input', 'requests', f\"{route_id}-{ymd}\")\n",
    "    if not os.path.exists(folder_requests):\n",
    "        return None\n",
    "\n",
    "    file_request = os.listdir(folder_requests)[idx_file]\n",
    "    file_path_request = os.path.join(folder_requests, file_request)\n",
    "\n",
    "\n",
    "    with open(file_path_request, 'r') as f:\n",
    "        request = json.load(f)\n",
    "\n",
    "    rows = list()\n",
    "    for task in request['tasks']:\n",
    "        # TODO: Dit kan efficienter met een specifieke methode (pd.explode, json to dataframe zaken)\n",
    "        if task['id'] == 'E1':\n",
    "            continue ## TODO: Also retain this task!\n",
    "        row = {'id' : int(task['id']),\n",
    "                    'lat' : task['address']['latitude'],\n",
    "                    'long' : task['address']['longitude'],\n",
    "                    'start_time' : task['timeWindow']['from'],\n",
    "                    'end_time' : task['timeWindow']['till']}\n",
    "        rows.append(row)\n",
    "\n",
    "    return pd.DataFrame(rows).sort_values(by = 'id')\n",
    "\n",
    "def sort_request(df_request, route_id, ymd, idx_file):\n",
    "    \"\"\"\n",
    "    Docstring!\n",
    "    \"\"\"\n",
    "    folder_response = os.path.join('..', 'data', 'input', 'responses', f\"{route_id}-{ymd}\")\n",
    "    file_response = os.listdir(folder_response)[idx_file]\n",
    "    file_path_response = os.path.join(folder_response, file_response)\n",
    "\n",
    "    with open(file_path_response, 'r') as f:\n",
    "        content = f.read()\n",
    "        if 'E1' in content: ## TODO: Deal with this better\n",
    "            return None\n",
    "        response = list(map(int, content.split('\\n')))\n",
    "    response.append(response[0])\n",
    "\n",
    "    return (df_request.set_index('id')\n",
    "                        .loc[response, :]\n",
    "                        .reset_index())\n",
    "\n",
    "def visualize_request(route_id, ymd, idx_file):\n",
    "    \"\"\"\n",
    "    This is actually a graph, could be plotted with NetworkX\n",
    "    \"\"\"\n",
    "\n",
    "    fig, ax = plt.subplots()\n",
    "    df_request = read_request(route_id, ymd, idx_file)\n",
    "    df_request = sort_request(df_request, route_id, ymd, idx_file)\n",
    "    df_request.plot(x = 'lat', y = 'long', ax = ax, marker = '>', label = 'Route')\n",
    "\n",
    "    df_request.iloc[[0], :].plot(x = 'lat', y = 'long', ax = ax, marker = 'o', color = 'r', ls = '', label = 'start')\n",
    "    return fig, ax\n",
    "    \n",
    "def create_summary(loc_summary, threshold_time = 12):\n",
    "    df_summary = pd.read_excel(loc_summary)\n",
    "    df_summary = df_summary.rename({' Time' : 'Time'}, axis = 1)\n",
    "    # Trim spaces and add leading zero to time\n",
    "    df_summary['Time'] = (df_summary['Time'].str\n",
    "                                            .strip()\n",
    "                                            .apply(lambda time : ('0' \n",
    "                                                                    + time.split(':')[0])[-2:] \n",
    "                                                                    + ':' \n",
    "                                                                    + ':'.join(time.split(':')[1:]) ))\n",
    "\n",
    "    df_summary['datetime'] = pd.to_datetime(df_summary['Date'] + df_summary['Time'], format='%m/%d/%Y%I:%M:%S.%f %p')\n",
    "    df_summary = df_summary.drop(['Time'], axis=1)\n",
    "    df_summary = df_summary.loc[df_summary.datetime.dt.hour <= threshold_time]\n",
    "    df_summary = df_summary.sort_values(by = 'datetime')\n",
    "    df_summary = df_summary.loc[df_summary.RouteId.str.startswith('0521_')]\n",
    "    return df_summary\n",
    "\n",
    "def create_diff_tasks(df_summary):\n",
    "    rows = list()\n",
    "    for (date, route_id), group in df_summary.groupby(['Date', 'RouteId']):\n",
    "        diff_nr_tasks = group.iloc[-1].NumberOfTasks - group.iloc[0].NumberOfTasks\n",
    "        rows.append({'date' : date,\n",
    "                        'route_id' : route_id,\n",
    "                        'diff_nr_tasks' : diff_nr_tasks})\n",
    "    return pd.DataFrame(rows)"
   ]
  },
  {
   "cell_type": "markdown",
   "metadata": {},
   "source": [
    "## Visualizeer specifieke routes"
   ]
  },
  {
   "cell_type": "code",
   "execution_count": 3,
   "metadata": {},
   "outputs": [
    {
     "data": {
      "image/png": "[encoded data removed]",
      "text/plain": [
       "<Figure size 640x480 with 1 Axes>"
      ]
     },
     "metadata": {},
     "output_type": "display_data"
    }
   ],
   "source": [
    "route_id = '0521_301'\n",
    "ymd = '20220621'\n",
    "idx_file = 0\n",
    "\n",
    "fig, ax = visualize_request(route_id, ymd, idx_file)"
   ]
  },
  {
   "cell_type": "markdown",
   "metadata": {},
   "source": [
    "## Verandering in aantal stops eerste vs laatste request"
   ]
  },
  {
   "cell_type": "code",
   "execution_count": 4,
   "metadata": {},
   "outputs": [
    {
     "ename": "ImportError",
     "evalue": "Missing optional dependency 'openpyxl'.  Use pip or conda to install openpyxl.",
     "output_type": "error",
     "traceback": [
      "\u001b[1;31m---------------------------------------------------------------------------\u001b[0m",
      "\u001b[1;31mModuleNotFoundError\u001b[0m                       Traceback (most recent call last)",
      "File \u001b[1;32mc:\\Users\\Frede\\.conda\\envs\\env_learning_driver_preferences\\Lib\\site-packages\\pandas\\compat\\_optional.py:135\u001b[0m, in \u001b[0;36mimport_optional_dependency\u001b[1;34m(name, extra, errors, min_version)\u001b[0m\n\u001b[0;32m    134\u001b[0m \u001b[38;5;28;01mtry\u001b[39;00m:\n\u001b[1;32m--> 135\u001b[0m     module \u001b[38;5;241m=\u001b[39m \u001b[43mimportlib\u001b[49m\u001b[38;5;241;43m.\u001b[39;49m\u001b[43mimport_module\u001b[49m\u001b[43m(\u001b[49m\u001b[43mname\u001b[49m\u001b[43m)\u001b[49m\n\u001b[0;32m    136\u001b[0m \u001b[38;5;28;01mexcept\u001b[39;00m \u001b[38;5;167;01mImportError\u001b[39;00m:\n",
      "File \u001b[1;32mc:\\Users\\Frede\\.conda\\envs\\env_learning_driver_preferences\\Lib\\importlib\\__init__.py:90\u001b[0m, in \u001b[0;36mimport_module\u001b[1;34m(name, package)\u001b[0m\n\u001b[0;32m     89\u001b[0m         level \u001b[38;5;241m+\u001b[39m\u001b[38;5;241m=\u001b[39m \u001b[38;5;241m1\u001b[39m\n\u001b[1;32m---> 90\u001b[0m \u001b[38;5;28;01mreturn\u001b[39;00m \u001b[43m_bootstrap\u001b[49m\u001b[38;5;241;43m.\u001b[39;49m\u001b[43m_gcd_import\u001b[49m\u001b[43m(\u001b[49m\u001b[43mname\u001b[49m\u001b[43m[\u001b[49m\u001b[43mlevel\u001b[49m\u001b[43m:\u001b[49m\u001b[43m]\u001b[49m\u001b[43m,\u001b[49m\u001b[43m \u001b[49m\u001b[43mpackage\u001b[49m\u001b[43m,\u001b[49m\u001b[43m \u001b[49m\u001b[43mlevel\u001b[49m\u001b[43m)\u001b[49m\n",
      "File \u001b[1;32m<frozen importlib._bootstrap>:1387\u001b[0m, in \u001b[0;36m_gcd_import\u001b[1;34m(name, package, level)\u001b[0m\n",
      "File \u001b[1;32m<frozen importlib._bootstrap>:1360\u001b[0m, in \u001b[0;36m_find_and_load\u001b[1;34m(name, import_)\u001b[0m\n",
      "File \u001b[1;32m<frozen importlib._bootstrap>:1324\u001b[0m, in \u001b[0;36m_find_and_load_unlocked\u001b[1;34m(name, import_)\u001b[0m\n",
      "\u001b[1;31mModuleNotFoundError\u001b[0m: No module named 'openpyxl'",
      "\nDuring handling of the above exception, another exception occurred:\n",
      "\u001b[1;31mImportError\u001b[0m                               Traceback (most recent call last)",
      "Cell \u001b[1;32mIn[4], line 2\u001b[0m\n\u001b[0;32m      1\u001b[0m loc_summary \u001b[38;5;241m=\u001b[39m \u001b[38;5;124mr\u001b[39m\u001b[38;5;124m'\u001b[39m\u001b[38;5;124m..\u001b[39m\u001b[38;5;124m\\\u001b[39m\u001b[38;5;124mdata\u001b[39m\u001b[38;5;124m\\\u001b[39m\u001b[38;5;124minput\u001b[39m\u001b[38;5;124m\\\u001b[39m\u001b[38;5;124mModifiedQueryRows.xlsx\u001b[39m\u001b[38;5;124m'\u001b[39m\n\u001b[1;32m----> 2\u001b[0m df_summary \u001b[38;5;241m=\u001b[39m \u001b[43mcreate_summary\u001b[49m\u001b[43m(\u001b[49m\u001b[43mloc_summary\u001b[49m\u001b[43m)\u001b[49m\n\u001b[0;32m      3\u001b[0m df_diff_tasks \u001b[38;5;241m=\u001b[39m create_diff_tasks(df_summary)\n",
      "Cell \u001b[1;32mIn[2], line 84\u001b[0m, in \u001b[0;36mcreate_summary\u001b[1;34m(loc_summary, threshold_time)\u001b[0m\n\u001b[0;32m     83\u001b[0m \u001b[38;5;28;01mdef\u001b[39;00m\u001b[38;5;250m \u001b[39m\u001b[38;5;21mcreate_summary\u001b[39m(loc_summary, threshold_time \u001b[38;5;241m=\u001b[39m \u001b[38;5;241m12\u001b[39m):\n\u001b[1;32m---> 84\u001b[0m     df_summary \u001b[38;5;241m=\u001b[39m \u001b[43mpd\u001b[49m\u001b[38;5;241;43m.\u001b[39;49m\u001b[43mread_excel\u001b[49m\u001b[43m(\u001b[49m\u001b[43mloc_summary\u001b[49m\u001b[43m)\u001b[49m\n\u001b[0;32m     85\u001b[0m     df_summary \u001b[38;5;241m=\u001b[39m df_summary\u001b[38;5;241m.\u001b[39mrename({\u001b[38;5;124m'\u001b[39m\u001b[38;5;124m Time\u001b[39m\u001b[38;5;124m'\u001b[39m : \u001b[38;5;124m'\u001b[39m\u001b[38;5;124mTime\u001b[39m\u001b[38;5;124m'\u001b[39m}, axis \u001b[38;5;241m=\u001b[39m \u001b[38;5;241m1\u001b[39m)\n\u001b[0;32m     86\u001b[0m     \u001b[38;5;66;03m# Trim spaces and add leading zero to time\u001b[39;00m\n",
      "File \u001b[1;32mc:\\Users\\Frede\\.conda\\envs\\env_learning_driver_preferences\\Lib\\site-packages\\pandas\\io\\excel\\_base.py:495\u001b[0m, in \u001b[0;36mread_excel\u001b[1;34m(io, sheet_name, header, names, index_col, usecols, dtype, engine, converters, true_values, false_values, skiprows, nrows, na_values, keep_default_na, na_filter, verbose, parse_dates, date_parser, date_format, thousands, decimal, comment, skipfooter, storage_options, dtype_backend, engine_kwargs)\u001b[0m\n\u001b[0;32m    493\u001b[0m \u001b[38;5;28;01mif\u001b[39;00m \u001b[38;5;129;01mnot\u001b[39;00m \u001b[38;5;28misinstance\u001b[39m(io, ExcelFile):\n\u001b[0;32m    494\u001b[0m     should_close \u001b[38;5;241m=\u001b[39m \u001b[38;5;28;01mTrue\u001b[39;00m\n\u001b[1;32m--> 495\u001b[0m     io \u001b[38;5;241m=\u001b[39m \u001b[43mExcelFile\u001b[49m\u001b[43m(\u001b[49m\n\u001b[0;32m    496\u001b[0m \u001b[43m        \u001b[49m\u001b[43mio\u001b[49m\u001b[43m,\u001b[49m\n\u001b[0;32m    497\u001b[0m \u001b[43m        \u001b[49m\u001b[43mstorage_options\u001b[49m\u001b[38;5;241;43m=\u001b[39;49m\u001b[43mstorage_options\u001b[49m\u001b[43m,\u001b[49m\n\u001b[0;32m    498\u001b[0m \u001b[43m        \u001b[49m\u001b[43mengine\u001b[49m\u001b[38;5;241;43m=\u001b[39;49m\u001b[43mengine\u001b[49m\u001b[43m,\u001b[49m\n\u001b[0;32m    499\u001b[0m \u001b[43m        \u001b[49m\u001b[43mengine_kwargs\u001b[49m\u001b[38;5;241;43m=\u001b[39;49m\u001b[43mengine_kwargs\u001b[49m\u001b[43m,\u001b[49m\n\u001b[0;32m    500\u001b[0m \u001b[43m    \u001b[49m\u001b[43m)\u001b[49m\n\u001b[0;32m    501\u001b[0m \u001b[38;5;28;01melif\u001b[39;00m engine \u001b[38;5;129;01mand\u001b[39;00m engine \u001b[38;5;241m!=\u001b[39m io\u001b[38;5;241m.\u001b[39mengine:\n\u001b[0;32m    502\u001b[0m     \u001b[38;5;28;01mraise\u001b[39;00m \u001b[38;5;167;01mValueError\u001b[39;00m(\n\u001b[0;32m    503\u001b[0m         \u001b[38;5;124m\"\u001b[39m\u001b[38;5;124mEngine should not be specified when passing \u001b[39m\u001b[38;5;124m\"\u001b[39m\n\u001b[0;32m    504\u001b[0m         \u001b[38;5;124m\"\u001b[39m\u001b[38;5;124man ExcelFile - ExcelFile already has the engine set\u001b[39m\u001b[38;5;124m\"\u001b[39m\n\u001b[0;32m    505\u001b[0m     )\n",
      "File \u001b[1;32mc:\\Users\\Frede\\.conda\\envs\\env_learning_driver_preferences\\Lib\\site-packages\\pandas\\io\\excel\\_base.py:1567\u001b[0m, in \u001b[0;36mExcelFile.__init__\u001b[1;34m(self, path_or_buffer, engine, storage_options, engine_kwargs)\u001b[0m\n\u001b[0;32m   1564\u001b[0m \u001b[38;5;28mself\u001b[39m\u001b[38;5;241m.\u001b[39mengine \u001b[38;5;241m=\u001b[39m engine\n\u001b[0;32m   1565\u001b[0m \u001b[38;5;28mself\u001b[39m\u001b[38;5;241m.\u001b[39mstorage_options \u001b[38;5;241m=\u001b[39m storage_options\n\u001b[1;32m-> 1567\u001b[0m \u001b[38;5;28mself\u001b[39m\u001b[38;5;241m.\u001b[39m_reader \u001b[38;5;241m=\u001b[39m \u001b[38;5;28;43mself\u001b[39;49m\u001b[38;5;241;43m.\u001b[39;49m\u001b[43m_engines\u001b[49m\u001b[43m[\u001b[49m\u001b[43mengine\u001b[49m\u001b[43m]\u001b[49m\u001b[43m(\u001b[49m\n\u001b[0;32m   1568\u001b[0m \u001b[43m    \u001b[49m\u001b[38;5;28;43mself\u001b[39;49m\u001b[38;5;241;43m.\u001b[39;49m\u001b[43m_io\u001b[49m\u001b[43m,\u001b[49m\n\u001b[0;32m   1569\u001b[0m \u001b[43m    \u001b[49m\u001b[43mstorage_options\u001b[49m\u001b[38;5;241;43m=\u001b[39;49m\u001b[43mstorage_options\u001b[49m\u001b[43m,\u001b[49m\n\u001b[0;32m   1570\u001b[0m \u001b[43m    \u001b[49m\u001b[43mengine_kwargs\u001b[49m\u001b[38;5;241;43m=\u001b[39;49m\u001b[43mengine_kwargs\u001b[49m\u001b[43m,\u001b[49m\n\u001b[0;32m   1571\u001b[0m \u001b[43m\u001b[49m\u001b[43m)\u001b[49m\n",
      "File \u001b[1;32mc:\\Users\\Frede\\.conda\\envs\\env_learning_driver_preferences\\Lib\\site-packages\\pandas\\io\\excel\\_openpyxl.py:552\u001b[0m, in \u001b[0;36mOpenpyxlReader.__init__\u001b[1;34m(self, filepath_or_buffer, storage_options, engine_kwargs)\u001b[0m\n\u001b[0;32m    534\u001b[0m \u001b[38;5;129m@doc\u001b[39m(storage_options\u001b[38;5;241m=\u001b[39m_shared_docs[\u001b[38;5;124m\"\u001b[39m\u001b[38;5;124mstorage_options\u001b[39m\u001b[38;5;124m\"\u001b[39m])\n\u001b[0;32m    535\u001b[0m \u001b[38;5;28;01mdef\u001b[39;00m\u001b[38;5;250m \u001b[39m\u001b[38;5;21m__init__\u001b[39m(\n\u001b[0;32m    536\u001b[0m     \u001b[38;5;28mself\u001b[39m,\n\u001b[1;32m   (...)\u001b[0m\n\u001b[0;32m    539\u001b[0m     engine_kwargs: \u001b[38;5;28mdict\u001b[39m \u001b[38;5;241m|\u001b[39m \u001b[38;5;28;01mNone\u001b[39;00m \u001b[38;5;241m=\u001b[39m \u001b[38;5;28;01mNone\u001b[39;00m,\n\u001b[0;32m    540\u001b[0m ) \u001b[38;5;241m-\u001b[39m\u001b[38;5;241m>\u001b[39m \u001b[38;5;28;01mNone\u001b[39;00m:\n\u001b[0;32m    541\u001b[0m \u001b[38;5;250m    \u001b[39m\u001b[38;5;124;03m\"\"\"\u001b[39;00m\n\u001b[0;32m    542\u001b[0m \u001b[38;5;124;03m    Reader using openpyxl engine.\u001b[39;00m\n\u001b[0;32m    543\u001b[0m \n\u001b[1;32m   (...)\u001b[0m\n\u001b[0;32m    550\u001b[0m \u001b[38;5;124;03m        Arbitrary keyword arguments passed to excel engine.\u001b[39;00m\n\u001b[0;32m    551\u001b[0m \u001b[38;5;124;03m    \"\"\"\u001b[39;00m\n\u001b[1;32m--> 552\u001b[0m     \u001b[43mimport_optional_dependency\u001b[49m\u001b[43m(\u001b[49m\u001b[38;5;124;43m\"\u001b[39;49m\u001b[38;5;124;43mopenpyxl\u001b[39;49m\u001b[38;5;124;43m\"\u001b[39;49m\u001b[43m)\u001b[49m\n\u001b[0;32m    553\u001b[0m     \u001b[38;5;28msuper\u001b[39m()\u001b[38;5;241m.\u001b[39m\u001b[38;5;21m__init__\u001b[39m(\n\u001b[0;32m    554\u001b[0m         filepath_or_buffer,\n\u001b[0;32m    555\u001b[0m         storage_options\u001b[38;5;241m=\u001b[39mstorage_options,\n\u001b[0;32m    556\u001b[0m         engine_kwargs\u001b[38;5;241m=\u001b[39mengine_kwargs,\n\u001b[0;32m    557\u001b[0m     )\n",
      "File \u001b[1;32mc:\\Users\\Frede\\.conda\\envs\\env_learning_driver_preferences\\Lib\\site-packages\\pandas\\compat\\_optional.py:138\u001b[0m, in \u001b[0;36mimport_optional_dependency\u001b[1;34m(name, extra, errors, min_version)\u001b[0m\n\u001b[0;32m    136\u001b[0m \u001b[38;5;28;01mexcept\u001b[39;00m \u001b[38;5;167;01mImportError\u001b[39;00m:\n\u001b[0;32m    137\u001b[0m     \u001b[38;5;28;01mif\u001b[39;00m errors \u001b[38;5;241m==\u001b[39m \u001b[38;5;124m\"\u001b[39m\u001b[38;5;124mraise\u001b[39m\u001b[38;5;124m\"\u001b[39m:\n\u001b[1;32m--> 138\u001b[0m         \u001b[38;5;28;01mraise\u001b[39;00m \u001b[38;5;167;01mImportError\u001b[39;00m(msg)\n\u001b[0;32m    139\u001b[0m     \u001b[38;5;28;01mreturn\u001b[39;00m \u001b[38;5;28;01mNone\u001b[39;00m\n\u001b[0;32m    141\u001b[0m \u001b[38;5;66;03m# Handle submodules: if we have submodule, grab parent module from sys.modules\u001b[39;00m\n",
      "\u001b[1;31mImportError\u001b[0m: Missing optional dependency 'openpyxl'.  Use pip or conda to install openpyxl."
     ]
    }
   ],
   "source": [
    "loc_summary = r'..\\data\\input\\ModifiedQueryRows.xlsx'\n",
    "df_summary = create_summary(loc_summary)\n",
    "df_diff_tasks = create_diff_tasks(df_summary)"
   ]
  },
  {
   "cell_type": "code",
   "execution_count": null,
   "metadata": {},
   "outputs": [],
   "source": [
    "print(f\"Avg nr of tasks added: {df_diff_tasks['diff_nr_tasks'].mean()}\")\n",
    "print(f\"Median nr of tasks added: {df_diff_tasks['diff_nr_tasks'].median()}\")\n",
    "df_diff_tasks.query(\"-100 <= diff_nr_tasks <= 100\")['diff_nr_tasks'].plot.hist(bins = 100);"
   ]
  },
  {
   "cell_type": "markdown",
   "metadata": {},
   "source": [
    "## Outliers zoeken!"
   ]
  },
  {
   "cell_type": "code",
   "execution_count": 6,
   "metadata": {},
   "outputs": [],
   "source": [
    "def get_route_tasks(df_summary, first_or_last = 'first'):\n",
    "\n",
    "    dfs = list()\n",
    "    idx_file = 0 if first_or_last == 'first' else -1\n",
    "    for (date, route_id), _ in tqdm(list(df_summary.groupby(['Date', 'RouteId']))):\n",
    "        ymd = pd.to_datetime(date, format = '%m/%d/%Y').strftime('%Y%m%d')\n",
    "        df_request = read_request(route_id, ymd, idx_file)\n",
    "        if df_request is None:\n",
    "            continue\n",
    "        # df_request = sort_request(df_request, route_id, ymd, idx_file) # To fix!\n",
    "        df_request['date'] = date\n",
    "        df_request['route_id'] = route_id\n",
    "        df_request['first_or_last'] = first_or_last\n",
    "        dfs.append(df_request)\n",
    "    return pd.concat(dfs, ignore_index = True)"
   ]
  },
  {
   "cell_type": "code",
   "execution_count": null,
   "metadata": {},
   "outputs": [],
   "source": [
    "# TODO: Investigate mismatch between summary and files, for now skip those we do not find\n",
    "\n",
    "df_requests_first = get_route_tasks(df_summary, first_or_last = 'first')\n",
    "df_requests_last = get_route_tasks(df_summary, first_or_last = 'last')\n",
    "df_requests = pd.concat([df_requests_first, df_requests_last], ignore_index = True)"
   ]
  },
  {
   "cell_type": "code",
   "execution_count": 28,
   "metadata": {},
   "outputs": [],
   "source": [
    "def detect_outliers_zscore(data):\n",
    "    z_scores = stats.zscore(data)\n",
    "    abs_z_scores = abs(z_scores)\n",
    "    outlier_indices = (abs_z_scores > 3).any(axis=1)\n",
    "    return data[outlier_indices]\n",
    "\n",
    "    \n",
    "# COuld be done with a .tranform\n",
    "groups = list()\n",
    "for (date, route_id), group in df_requests.groupby(['date', 'route_id']):\n",
    "    group['is_outlier'] = False\n",
    "    outliers = detect_outliers_zscore(group[['lat', 'long']])\n",
    "    group.loc[outliers.index, 'is_outlier'] = True\n",
    "    groups.append(group)\n",
    "\n",
    "df_requests = pd.concat(groups)"
   ]
  },
  {
   "cell_type": "code",
   "execution_count": null,
   "metadata": {},
   "outputs": [],
   "source": [
    "num_outliers = df_requests.groupby(['route_id', 'date'])['is_outlier'].sum()\n",
    "bins = np.arange(num_outliers.values.min() - .5, num_outliers.values.max() + 1.5, 1)\n",
    "num_outliers.plot.hist(bins = bins)"
   ]
  },
  {
   "cell_type": "markdown",
   "metadata": {},
   "source": [
    "## Aantal punten per request"
   ]
  },
  {
   "cell_type": "markdown",
   "metadata": {},
   "source": [
    "#### Deel 1: wat ligt vast, wat niet?"
   ]
  },
  {
   "cell_type": "code",
   "execution_count": null,
   "metadata": {},
   "outputs": [],
   "source": [
    "fig, ax = plt.subplots()\n",
    "\n",
    "colors = {'FullOptimization' : 'pink',\n",
    "            'AdditionalOrders' : 'green',\n",
    "            'TimeCalculation' : 'purple'}\n",
    "\n",
    "for triggertype, group in df_summary.groupby('TriggerType'):\n",
    "    #if triggertype != 'AdditionalOrders':\n",
    "    #    continue\n",
    "    group.plot.scatter(x = 'NumberOfTasks', \n",
    "                                    y = 'NumberOfTasksInInputPlan', \n",
    "                                    ax = ax,\n",
    "                                    label = triggertype,\n",
    "                                    color = colors[triggertype])"
   ]
  },
  {
   "cell_type": "code",
   "execution_count": null,
   "metadata": {},
   "outputs": [],
   "source": [
    "df_additional = df_summary.query(\"TriggerType == 'AdditionalOrders'\")\n",
    "plt.hist((df_additional.NumberOfTasks  - df_additional.NumberOfTasksInInputPlan) / df_additional.NumberOfTasks, bins = 50);\n",
    "plt.xlabel(\"Percentage additional orders\")"
   ]
  },
  {
   "cell_type": "markdown",
   "metadata": {},
   "source": [
    "#### Deel 2: Verdeling van NumberOfTasks"
   ]
  },
  {
   "cell_type": "code",
   "execution_count": null,
   "metadata": {},
   "outputs": [],
   "source": [
    "fig, ax = plt.subplots()\n",
    "\n",
    "for triggertype, group in df_summary.groupby('TriggerType'):\n",
    "    #if triggertype != 'AdditionalOrders':\n",
    "    #    continue\n",
    "    group.NumberOfTasks.hist(ax = ax,\n",
    "                                    label = triggertype,\n",
    "                                    color = colors[triggertype],\n",
    "                                    alpha = 0.5,\n",
    "                                    density = True,\n",
    "                                    bins = 30)\n",
    "    \n",
    "ax.grid(False)\n",
    "ax.legend(frameon = False)"
   ]
  },
  {
   "cell_type": "markdown",
   "metadata": {},
   "source": [
    "### Zijsprongetje: komen punten meerdere keren voor?"
   ]
  },
  {
   "cell_type": "code",
   "execution_count": null,
   "metadata": {},
   "outputs": [],
   "source": [
    "df_requests.groupby(['long', 'lat']).size().reset_index(name='count')['count'].hist(bins = 100)\n",
    "# Bijna niet"
   ]
  },
  {
   "cell_type": "markdown",
   "metadata": {},
   "source": [
    "## Inspectie op aantal km gereden"
   ]
  },
  {
   "cell_type": "markdown",
   "metadata": {},
   "source": [
    "#### Deel 1: preprocessing"
   ]
  },
  {
   "cell_type": "code",
   "execution_count": 29,
   "metadata": {},
   "outputs": [],
   "source": [
    "rows = list()\n",
    "for (date, route_id, first_or_last), df_request in tqdm(df_requests.groupby(['date', 'route_id', 'first_or_last'])):\n",
    "    for i in range(len( df_request )):\n",
    "        first_point = df_request.iloc[i]\n",
    "        second_point = df_request.iloc[(i + 1) % len(df_request)]\n",
    "        dist = haversine_distance(first_point.lat, first_point.long, second_point.lat, second_point.long)\n",
    "        rows.append({'dist' : dist,\n",
    "                        'last_point' : i + 1 == len(df_request),\n",
    "                        'id' : df_request.iloc[i].id,\n",
    "                        'date' : date,\n",
    "                        'route_id' : route_id,\n",
    "                        'first_or_last' : first_or_last})\n",
    "\n",
    "df_right = pd.DataFrame(rows)\n",
    "for col in df_right.columns:\n",
    "    if (col in df_requests.columns) and (col not in ['id', 'date', 'route_id']):\n",
    "        df_requests = df_requests.drop(col, axis = 1)\n",
    "df_requests = pd.merge(left = df_requests,\n",
    "                                right = df_right,\n",
    "                                on = ['id', 'date', 'route_id'])"
   ]
  },
  {
   "cell_type": "markdown",
   "metadata": {},
   "source": [
    "### Afstand eerste & laatste punt vs afstanden algemeen"
   ]
  },
  {
   "cell_type": "code",
   "execution_count": null,
   "metadata": {},
   "outputs": [],
   "source": [
    "display(df_requests.groupby('last_point')['dist'].mean())\n",
    "\n",
    "fig, ax = plt.subplots()\n",
    "colors = ['g', 'r']\n",
    "for last_point, group in df_requests.groupby('last_point'):\n",
    "    group.query(\"dist <= 10\").dist.hist(ax = ax,\n",
    "                                            label = f\"This is{' not' if not last_point else ''} the last point\",\n",
    "                                            color = colors[last_point],\n",
    "                                            alpha = 0.5,\n",
    "                                            density = True,\n",
    "                                            bins = 30)\n",
    "    \n",
    "ax.grid(False)\n",
    "ax.legend(frameon = False)"
   ]
  },
  {
   "cell_type": "markdown",
   "metadata": {},
   "source": [
    "### First vs last route total km driven"
   ]
  },
  {
   "cell_type": "code",
   "execution_count": null,
   "metadata": {},
   "outputs": [],
   "source": [
    "df_summary.query(\"RouteId == '0521_301' and Date == '6/18/2022'\")"
   ]
  },
  {
   "cell_type": "code",
   "execution_count": 60,
   "metadata": {},
   "outputs": [],
   "source": [
    "rows = list()\n",
    "for (date, route_id), group in (df_requests.groupby([\"route_id\", \"date\", \"first_or_last\"])\n",
    "                                                        ['dist']\n",
    "                                                        .aggregate(['sum', 'count'])\n",
    "                                                        .reset_index()\n",
    "                                            .groupby([\"route_id\", \"date\"])):\n",
    "    diff_distance = group.set_index('first_or_last').loc['last', 'sum'] - group.set_index('first_or_last').loc['first', 'sum']\n",
    "    diff_count = group.set_index('first_or_last').loc['last', 'count'] - group.set_index('first_or_last').loc['first', 'count']\n",
    "    rows.append({'diff_distance' : diff_distance,\n",
    "                    'diff_count' : diff_count,\n",
    "                    'date' : date,\n",
    "                    'route_id' : route_id})\n",
    "\n",
    "df_diff_distance = pd.DataFrame(rows)"
   ]
  },
  {
   "cell_type": "code",
   "execution_count": null,
   "metadata": {},
   "outputs": [],
   "source": [
    "df_diff_distance.plot.scatter(x = 'diff_count', \n",
    "                                    y = 'diff_distance',\n",
    "                                    alpha = 0.3)"
   ]
  },
  {
   "cell_type": "code",
   "execution_count": null,
   "metadata": {},
   "outputs": [],
   "source": [
    "df_diff_distance.diff_distance.plot.hist(bins = 50)"
   ]
  },
  {
   "cell_type": "markdown",
   "metadata": {},
   "source": [
    "### Kolom toevoegen \"removed\" toevoegen"
   ]
  },
  {
   "cell_type": "code",
   "execution_count": null,
   "metadata": {},
   "outputs": [],
   "source": [
    "df_requests_last"
   ]
  },
  {
   "cell_type": "code",
   "execution_count": 79,
   "metadata": {},
   "outputs": [],
   "source": [
    "dict_group_last = {(date, route_id) : group_last for (date, route_id), group_last in df_requests_last.groupby(['date', 'route_id'])}"
   ]
  },
  {
   "cell_type": "code",
   "execution_count": 88,
   "metadata": {},
   "outputs": [],
   "source": [
    "## TODO: FIX THIS!\n",
    "\n",
    "dfs = list()\n",
    "for (date, route_id), group_first in df_requests_first.groupby(['date', 'route_id']):\n",
    "    group_last = dict_group_last[date, route_id]\n",
    "    group_merged = pd.merge(left = group_first, #df_requests.query(\"first_or_last == 'first'\"),\n",
    "                                    right = group_last, # df_requests.query(\"first_or_last == 'last'\"),\n",
    "                                    on = ['id'],\n",
    "                                    suffixes = ['', 'to_remove'],\n",
    "                                    how = 'left')\n",
    "\n",
    "    group_merged['is_removed'] = group_merged['first_or_lastto_remove'].isnull()\n",
    "    group_merged = group_merged.drop([col for col in group_merged.columns if col.endswith('to_remove')], axis = 1)\n",
    "    dfs.append(group_merged)\n",
    "\n",
    "df_removed = pd.concat(dfs, ignore_index=  True)"
   ]
  },
  {
   "cell_type": "code",
   "execution_count": null,
   "metadata": {},
   "outputs": [],
   "source": [
    "df_removed.is_removed.mean()"
   ]
  },
  {
   "cell_type": "code",
   "execution_count": 75,
   "metadata": {},
   "outputs": [],
   "source": [
    "# TODO: Sanity check: ids for multiple requests on the same route are the same\n",
    "# TODO: Extend methodology to also have the added ones\n",
    "\n",
    "df_requests_removed = pd.merge(left = df_requests_first, #df_requests.query(\"first_or_last == 'first'\"),\n",
    "                                    right = df_requests_last, # df_requests.query(\"first_or_last == 'last'\"),\n",
    "                                    on = ['id', 'route_id', 'date'],\n",
    "                                    suffixes = ['', 'to_remove'])\n",
    "\n",
    "df_requests_removed['is_removed'] = df_requests_removed['first_or_lastto_remove'].isnull()\n",
    "df_requests_removed = df_requests_removed.drop([col for col in df_requests_removed.columns if col.endswith('to_remove')], axis = 1)"
   ]
  },
  {
   "cell_type": "code",
   "execution_count": null,
   "metadata": {},
   "outputs": [],
   "source": [
    "df_requests_removed.is_removed.mean()"
   ]
  }
 ],
 "metadata": {
  "kernelspec": {
   "display_name": "env_learning_driver_preferences",
   "language": "python",
   "name": "python3"
  },
  "language_info": {
   "codemirror_mode": {
    "name": "ipython",
    "version": 3
   },
   "file_extension": ".py",
   "mimetype": "text/x-python",
   "name": "python",
   "nbconvert_exporter": "python",
   "pygments_lexer": "ipython3",
   "version": "3.12.8"
  }
 },
 "nbformat": 4,
 "nbformat_minor": 2
}
